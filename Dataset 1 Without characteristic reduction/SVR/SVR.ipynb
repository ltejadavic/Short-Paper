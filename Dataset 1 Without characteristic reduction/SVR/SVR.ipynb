{
  "cells": [
    {
      "cell_type": "markdown",
      "metadata": {
        "id": "AvJyg8xgbBD2"
      },
      "source": [
        "Importación y Carga de Datos"
      ]
    },
    {
      "cell_type": "code",
      "execution_count": 10,
      "metadata": {
        "id": "tJA_xfxpbAlp"
      },
      "outputs": [],
      "source": [
        "# Importaciones\n",
        "import pandas as pd\n",
        "import numpy as np\n",
        "from sklearn.preprocessing import LabelEncoder, StandardScaler\n",
        "from sklearn.model_selection import train_test_split, GridSearchCV\n",
        "from sklearn.metrics import confusion_matrix, classification_report\n",
        "from imblearn.over_sampling import SMOTE\n",
        "from sklearn.svm import SVC  # Importa el clasificador SVM en lugar de SVR, ya que estás haciendo clasificación\n",
        "from sklearn.ensemble import GradientBoostingClassifier\n",
        "from sklearn.model_selection import cross_val_score\n",
        "from xgboost import XGBClassifier\n",
        "\n",
        "df = pd.read_csv('telecom_customer_churn.csv')"
      ]
    },
    {
      "cell_type": "markdown",
      "metadata": {
        "id": "Y3B405XRbMm_"
      },
      "source": [
        "Preprocesamiento"
      ]
    },
    {
      "cell_type": "code",
      "execution_count": 11,
      "metadata": {
        "colab": {
          "base_uri": "https://localhost:8080/"
        },
        "id": "BKuTS-4Da1iq",
        "outputId": "64269792-651b-47fc-a2aa-3a22c056507f"
      },
      "outputs": [],
      "source": [
        "# 1. Preprocesamiento\n",
        "# a. Eliminar entradas con el estado \"Joined\"\n",
        "df = df[df['Customer Status'] != 'Joined']\n",
        "\n",
        "# b. Crear la columna 'Churn' y asignar 1 si 'Customer Status' es 'Churned', de lo contrario 0\n",
        "df['Churn'] = df['Customer Status'].apply(lambda x: 1 if x == 'Churned' else 0)\n",
        "\n",
        "# c. Eliminar columnas con más del 50% de datos faltantes\n",
        "threshold = int(0.5 * len(df))\n",
        "df = df.dropna(thresh=threshold, axis=1)\n",
        "\n",
        "# d. Reemplazar valores atípicos por la media\n",
        "for col in df.select_dtypes(include=['float64', 'int64']):\n",
        "    Q1 = df[col].quantile(0.25)\n",
        "    Q3 = df[col].quantile(0.75)\n",
        "    IQR = Q3 - Q1\n",
        "    df[col] = df[col].apply(lambda x: df[col].mean() if (x < (Q1 - 1.5 * IQR)) or (x > (Q3 + 1.5 * IQR)) else x)\n",
        "\n",
        "# e. Convertir variables categóricas a numéricas y llenar valores faltantes\n",
        "for column in df.columns:\n",
        "    if df[column].dtype == 'object' and column != 'Customer Status':\n",
        "        # Llenar valores faltantes con la moda para columnas categóricas\n",
        "        df[column].fillna(df[column].mode()[0], inplace=True)\n",
        "        # Convertir variables categóricas a numéricas\n",
        "        le = LabelEncoder()\n",
        "        df[column] = le.fit_transform(df[column])\n",
        "    elif df[column].dtype in ['int64', 'float64']:\n",
        "        # Llenar valores faltantes con la mediana para columnas numéricas\n",
        "        df[column].fillna(df[column].median(), inplace=True)\n",
        "\n",
        "# Eliminar la columna 'Customer Status' antes de normalizar\n",
        "df = df.drop(columns=['Customer Status'])\n",
        "\n",
        "# f. Normalización\n",
        "# Seleccionar solo las columnas que no son 'Churn' para la normalización\n",
        "cols_to_scale = df.columns.difference(['Churn'])\n",
        "scaler = StandardScaler()\n",
        "df[cols_to_scale] = scaler.fit_transform(df[cols_to_scale])"
      ]
    },
    {
      "cell_type": "markdown",
      "metadata": {
        "id": "ed-WLhQ4bPiM"
      },
      "source": [
        "Selección de características"
      ]
    },
    {
      "cell_type": "code",
      "execution_count": 12,
      "metadata": {
        "id": "i8PrZ1K8bP7s"
      },
      "outputs": [],
      "source": [
        "# 2. Selección de características\n",
        "xgb_for_feature_selection = XGBClassifier(\n",
        "    objective='binary:logistic', \n",
        "    random_state=42, \n",
        "    use_label_encoder=False, \n",
        "    eval_metric='logloss'\n",
        ")\n",
        "xgb_for_feature_selection.fit(df.drop('Churn', axis=1), df['Churn'])\n",
        "threshold = 0.01  \n",
        "selected_features = df.drop('Churn', axis=1).columns[(xgb_for_feature_selection.feature_importances_ > threshold)].tolist()\n"
      ]
    },
    {
      "cell_type": "markdown",
      "metadata": {
        "id": "6GiFgAaybheu"
      },
      "source": [
        "Balanceo con SMOTE"
      ]
    },
    {
      "cell_type": "code",
      "execution_count": 13,
      "metadata": {},
      "outputs": [],
      "source": [
        "# 3. Balanceo con SMOTE\n",
        "smote = SMOTE(random_state=42)\n",
        "X_smote, y_smote = smote.fit_resample(df[selected_features], df['Churn'])"
      ]
    },
    {
      "cell_type": "markdown",
      "metadata": {
        "id": "-gGkhCSKbZAy"
      },
      "source": [
        "Balanceo"
      ]
    },
    {
      "cell_type": "code",
      "execution_count": 14,
      "metadata": {
        "id": "pHoztCgybaO5"
      },
      "outputs": [],
      "source": [
        "# 4. División de Conjunto\n",
        "X_train, X_test, y_train, y_test = train_test_split(X_smote, y_smote, test_size=0.2, random_state=42)"
      ]
    },
    {
      "cell_type": "markdown",
      "metadata": {
        "id": "rVuuaC5amVQU"
      },
      "source": [
        "Entrenamiento de SVR con búsqueda de hiperparámetros"
      ]
    },
    {
      "cell_type": "code",
      "execution_count": 15,
      "metadata": {
        "colab": {
          "base_uri": "https://localhost:8080/"
        },
        "id": "uyGhE6ygmYrG",
        "outputId": "1e0e50c0-ba48-4424-f724-6675dfddcaa9"
      },
      "outputs": [
        {
          "name": "stdout",
          "output_type": "stream",
          "text": [
            "Fitting 5 folds for each of 32 candidates, totalling 160 fits\n",
            "[CV 1/5] END ........C=0.1, gamma=1, kernel=rbf;, score=0.570 total time=   1.2s\n",
            "[CV 2/5] END ........C=0.1, gamma=1, kernel=rbf;, score=0.565 total time=   1.2s\n",
            "[CV 3/5] END ........C=0.1, gamma=1, kernel=rbf;, score=0.581 total time=   1.1s\n",
            "[CV 4/5] END ........C=0.1, gamma=1, kernel=rbf;, score=0.602 total time=   1.3s\n",
            "[CV 5/5] END ........C=0.1, gamma=1, kernel=rbf;, score=0.591 total time=   1.2s\n",
            "[CV 1/5] END .....C=0.1, gamma=1, kernel=linear;, score=0.823 total time=   0.4s\n",
            "[CV 2/5] END .....C=0.1, gamma=1, kernel=linear;, score=0.823 total time=   0.4s\n",
            "[CV 3/5] END .....C=0.1, gamma=1, kernel=linear;, score=0.820 total time=   0.4s\n",
            "[CV 4/5] END .....C=0.1, gamma=1, kernel=linear;, score=0.814 total time=   0.4s\n",
            "[CV 5/5] END .....C=0.1, gamma=1, kernel=linear;, score=0.830 total time=   0.4s\n",
            "[CV 1/5] END ......C=0.1, gamma=0.1, kernel=rbf;, score=0.832 total time=   0.8s\n",
            "[CV 2/5] END ......C=0.1, gamma=0.1, kernel=rbf;, score=0.849 total time=   0.7s\n",
            "[CV 3/5] END ......C=0.1, gamma=0.1, kernel=rbf;, score=0.835 total time=   0.7s\n",
            "[CV 4/5] END ......C=0.1, gamma=0.1, kernel=rbf;, score=0.832 total time=   0.7s\n",
            "[CV 5/5] END ......C=0.1, gamma=0.1, kernel=rbf;, score=0.837 total time=   0.7s\n",
            "[CV 1/5] END ...C=0.1, gamma=0.1, kernel=linear;, score=0.823 total time=   0.4s\n",
            "[CV 2/5] END ...C=0.1, gamma=0.1, kernel=linear;, score=0.823 total time=   0.4s\n",
            "[CV 3/5] END ...C=0.1, gamma=0.1, kernel=linear;, score=0.820 total time=   0.4s\n",
            "[CV 4/5] END ...C=0.1, gamma=0.1, kernel=linear;, score=0.814 total time=   0.4s\n",
            "[CV 5/5] END ...C=0.1, gamma=0.1, kernel=linear;, score=0.830 total time=   0.4s\n",
            "[CV 1/5] END .....C=0.1, gamma=0.01, kernel=rbf;, score=0.824 total time=   0.6s\n",
            "[CV 2/5] END .....C=0.1, gamma=0.01, kernel=rbf;, score=0.835 total time=   0.6s\n",
            "[CV 3/5] END .....C=0.1, gamma=0.01, kernel=rbf;, score=0.821 total time=   0.6s\n",
            "[CV 4/5] END .....C=0.1, gamma=0.01, kernel=rbf;, score=0.817 total time=   0.7s\n",
            "[CV 5/5] END .....C=0.1, gamma=0.01, kernel=rbf;, score=0.821 total time=   0.7s\n",
            "[CV 1/5] END ..C=0.1, gamma=0.01, kernel=linear;, score=0.823 total time=   0.4s\n",
            "[CV 2/5] END ..C=0.1, gamma=0.01, kernel=linear;, score=0.823 total time=   0.4s\n",
            "[CV 3/5] END ..C=0.1, gamma=0.01, kernel=linear;, score=0.820 total time=   0.4s\n",
            "[CV 4/5] END ..C=0.1, gamma=0.01, kernel=linear;, score=0.814 total time=   0.4s\n",
            "[CV 5/5] END ..C=0.1, gamma=0.01, kernel=linear;, score=0.830 total time=   0.4s\n",
            "[CV 1/5] END ....C=0.1, gamma=0.001, kernel=rbf;, score=0.798 total time=   0.9s\n",
            "[CV 2/5] END ....C=0.1, gamma=0.001, kernel=rbf;, score=0.799 total time=   1.0s\n",
            "[CV 3/5] END ....C=0.1, gamma=0.001, kernel=rbf;, score=0.788 total time=   1.0s\n",
            "[CV 4/5] END ....C=0.1, gamma=0.001, kernel=rbf;, score=0.788 total time=   1.0s\n",
            "[CV 5/5] END ....C=0.1, gamma=0.001, kernel=rbf;, score=0.806 total time=   0.9s\n",
            "[CV 1/5] END .C=0.1, gamma=0.001, kernel=linear;, score=0.823 total time=   0.4s\n",
            "[CV 2/5] END .C=0.1, gamma=0.001, kernel=linear;, score=0.823 total time=   0.4s\n",
            "[CV 3/5] END .C=0.1, gamma=0.001, kernel=linear;, score=0.820 total time=   0.4s\n",
            "[CV 4/5] END .C=0.1, gamma=0.001, kernel=linear;, score=0.814 total time=   0.4s\n",
            "[CV 5/5] END .C=0.1, gamma=0.001, kernel=linear;, score=0.830 total time=   0.4s\n",
            "[CV 1/5] END ..........C=1, gamma=1, kernel=rbf;, score=0.880 total time=   1.3s\n",
            "[CV 2/5] END ..........C=1, gamma=1, kernel=rbf;, score=0.861 total time=   1.2s\n",
            "[CV 3/5] END ..........C=1, gamma=1, kernel=rbf;, score=0.883 total time=   1.3s\n",
            "[CV 4/5] END ..........C=1, gamma=1, kernel=rbf;, score=0.875 total time=   1.3s\n",
            "[CV 5/5] END ..........C=1, gamma=1, kernel=rbf;, score=0.883 total time=   1.3s\n",
            "[CV 1/5] END .......C=1, gamma=1, kernel=linear;, score=0.824 total time=   0.6s\n",
            "[CV 2/5] END .......C=1, gamma=1, kernel=linear;, score=0.822 total time=   0.6s\n",
            "[CV 3/5] END .......C=1, gamma=1, kernel=linear;, score=0.819 total time=   0.7s\n",
            "[CV 4/5] END .......C=1, gamma=1, kernel=linear;, score=0.813 total time=   0.6s\n",
            "[CV 5/5] END .......C=1, gamma=1, kernel=linear;, score=0.831 total time=   0.6s\n",
            "[CV 1/5] END ........C=1, gamma=0.1, kernel=rbf;, score=0.870 total time=   0.6s\n",
            "[CV 2/5] END ........C=1, gamma=0.1, kernel=rbf;, score=0.876 total time=   0.6s\n",
            "[CV 3/5] END ........C=1, gamma=0.1, kernel=rbf;, score=0.882 total time=   0.6s\n",
            "[CV 4/5] END ........C=1, gamma=0.1, kernel=rbf;, score=0.872 total time=   0.6s\n",
            "[CV 5/5] END ........C=1, gamma=0.1, kernel=rbf;, score=0.872 total time=   0.6s\n",
            "[CV 1/5] END .....C=1, gamma=0.1, kernel=linear;, score=0.824 total time=   0.6s\n",
            "[CV 2/5] END .....C=1, gamma=0.1, kernel=linear;, score=0.822 total time=   0.6s\n",
            "[CV 3/5] END .....C=1, gamma=0.1, kernel=linear;, score=0.819 total time=   0.7s\n",
            "[CV 4/5] END .....C=1, gamma=0.1, kernel=linear;, score=0.813 total time=   0.6s\n",
            "[CV 5/5] END .....C=1, gamma=0.1, kernel=linear;, score=0.831 total time=   0.6s\n",
            "[CV 1/5] END .......C=1, gamma=0.01, kernel=rbf;, score=0.833 total time=   0.5s\n",
            "[CV 2/5] END .......C=1, gamma=0.01, kernel=rbf;, score=0.835 total time=   0.5s\n",
            "[CV 3/5] END .......C=1, gamma=0.01, kernel=rbf;, score=0.835 total time=   0.5s\n",
            "[CV 4/5] END .......C=1, gamma=0.01, kernel=rbf;, score=0.828 total time=   0.5s\n",
            "[CV 5/5] END .......C=1, gamma=0.01, kernel=rbf;, score=0.842 total time=   0.5s\n",
            "[CV 1/5] END ....C=1, gamma=0.01, kernel=linear;, score=0.824 total time=   0.6s\n",
            "[CV 2/5] END ....C=1, gamma=0.01, kernel=linear;, score=0.822 total time=   0.6s\n",
            "[CV 3/5] END ....C=1, gamma=0.01, kernel=linear;, score=0.819 total time=   0.7s\n",
            "[CV 4/5] END ....C=1, gamma=0.01, kernel=linear;, score=0.813 total time=   0.6s\n",
            "[CV 5/5] END ....C=1, gamma=0.01, kernel=linear;, score=0.831 total time=   0.6s\n",
            "[CV 1/5] END ......C=1, gamma=0.001, kernel=rbf;, score=0.824 total time=   0.6s\n",
            "[CV 2/5] END ......C=1, gamma=0.001, kernel=rbf;, score=0.827 total time=   0.6s\n",
            "[CV 3/5] END ......C=1, gamma=0.001, kernel=rbf;, score=0.817 total time=   0.6s\n",
            "[CV 4/5] END ......C=1, gamma=0.001, kernel=rbf;, score=0.812 total time=   0.6s\n",
            "[CV 5/5] END ......C=1, gamma=0.001, kernel=rbf;, score=0.821 total time=   0.7s\n",
            "[CV 1/5] END ...C=1, gamma=0.001, kernel=linear;, score=0.824 total time=   0.6s\n",
            "[CV 2/5] END ...C=1, gamma=0.001, kernel=linear;, score=0.822 total time=   0.6s\n",
            "[CV 3/5] END ...C=1, gamma=0.001, kernel=linear;, score=0.819 total time=   0.7s\n",
            "[CV 4/5] END ...C=1, gamma=0.001, kernel=linear;, score=0.813 total time=   0.7s\n",
            "[CV 5/5] END ...C=1, gamma=0.001, kernel=linear;, score=0.831 total time=   0.6s\n",
            "[CV 1/5] END .........C=10, gamma=1, kernel=rbf;, score=0.887 total time=   1.3s\n",
            "[CV 2/5] END .........C=10, gamma=1, kernel=rbf;, score=0.876 total time=   1.3s\n",
            "[CV 3/5] END .........C=10, gamma=1, kernel=rbf;, score=0.894 total time=   1.3s\n",
            "[CV 4/5] END .........C=10, gamma=1, kernel=rbf;, score=0.885 total time=   1.5s\n",
            "[CV 5/5] END .........C=10, gamma=1, kernel=rbf;, score=0.887 total time=   1.6s\n",
            "[CV 1/5] END ......C=10, gamma=1, kernel=linear;, score=0.824 total time=   2.2s\n",
            "[CV 2/5] END ......C=10, gamma=1, kernel=linear;, score=0.821 total time=   2.2s\n",
            "[CV 3/5] END ......C=10, gamma=1, kernel=linear;, score=0.819 total time=   2.2s\n",
            "[CV 4/5] END ......C=10, gamma=1, kernel=linear;, score=0.813 total time=   2.3s\n",
            "[CV 5/5] END ......C=10, gamma=1, kernel=linear;, score=0.830 total time=   2.7s\n",
            "[CV 1/5] END .......C=10, gamma=0.1, kernel=rbf;, score=0.888 total time=   0.6s\n",
            "[CV 2/5] END .......C=10, gamma=0.1, kernel=rbf;, score=0.886 total time=   0.6s\n",
            "[CV 3/5] END .......C=10, gamma=0.1, kernel=rbf;, score=0.895 total time=   0.6s\n",
            "[CV 4/5] END .......C=10, gamma=0.1, kernel=rbf;, score=0.889 total time=   0.6s\n",
            "[CV 5/5] END .......C=10, gamma=0.1, kernel=rbf;, score=0.893 total time=   0.6s\n",
            "[CV 1/5] END ....C=10, gamma=0.1, kernel=linear;, score=0.824 total time=   2.3s\n",
            "[CV 2/5] END ....C=10, gamma=0.1, kernel=linear;, score=0.821 total time=   2.3s\n",
            "[CV 3/5] END ....C=10, gamma=0.1, kernel=linear;, score=0.819 total time=   2.2s\n",
            "[CV 4/5] END ....C=10, gamma=0.1, kernel=linear;, score=0.813 total time=   2.2s\n",
            "[CV 5/5] END ....C=10, gamma=0.1, kernel=linear;, score=0.830 total time=   2.3s\n",
            "[CV 1/5] END ......C=10, gamma=0.01, kernel=rbf;, score=0.848 total time=   0.6s\n",
            "[CV 2/5] END ......C=10, gamma=0.01, kernel=rbf;, score=0.860 total time=   0.6s\n",
            "[CV 3/5] END ......C=10, gamma=0.01, kernel=rbf;, score=0.856 total time=   0.6s\n",
            "[CV 4/5] END ......C=10, gamma=0.01, kernel=rbf;, score=0.845 total time=   0.6s\n",
            "[CV 5/5] END ......C=10, gamma=0.01, kernel=rbf;, score=0.859 total time=   0.6s\n",
            "[CV 1/5] END ...C=10, gamma=0.01, kernel=linear;, score=0.824 total time=   2.4s\n",
            "[CV 2/5] END ...C=10, gamma=0.01, kernel=linear;, score=0.821 total time=   2.3s\n",
            "[CV 3/5] END ...C=10, gamma=0.01, kernel=linear;, score=0.819 total time=   2.3s\n",
            "[CV 4/5] END ...C=10, gamma=0.01, kernel=linear;, score=0.813 total time=   2.2s\n",
            "[CV 5/5] END ...C=10, gamma=0.01, kernel=linear;, score=0.830 total time=   2.1s\n",
            "[CV 1/5] END .....C=10, gamma=0.001, kernel=rbf;, score=0.827 total time=   0.5s\n",
            "[CV 2/5] END .....C=10, gamma=0.001, kernel=rbf;, score=0.827 total time=   0.5s\n",
            "[CV 3/5] END .....C=10, gamma=0.001, kernel=rbf;, score=0.818 total time=   0.6s\n",
            "[CV 4/5] END .....C=10, gamma=0.001, kernel=rbf;, score=0.811 total time=   0.5s\n",
            "[CV 5/5] END .....C=10, gamma=0.001, kernel=rbf;, score=0.830 total time=   0.5s\n",
            "[CV 1/5] END ..C=10, gamma=0.001, kernel=linear;, score=0.824 total time=   2.2s\n",
            "[CV 2/5] END ..C=10, gamma=0.001, kernel=linear;, score=0.821 total time=   2.1s\n",
            "[CV 3/5] END ..C=10, gamma=0.001, kernel=linear;, score=0.819 total time=   2.2s\n",
            "[CV 4/5] END ..C=10, gamma=0.001, kernel=linear;, score=0.813 total time=   2.3s\n",
            "[CV 5/5] END ..C=10, gamma=0.001, kernel=linear;, score=0.830 total time=   2.1s\n",
            "[CV 1/5] END ........C=100, gamma=1, kernel=rbf;, score=0.889 total time=   1.4s\n",
            "[CV 2/5] END ........C=100, gamma=1, kernel=rbf;, score=0.875 total time=   1.4s\n",
            "[CV 3/5] END ........C=100, gamma=1, kernel=rbf;, score=0.893 total time=   1.5s\n",
            "[CV 4/5] END ........C=100, gamma=1, kernel=rbf;, score=0.884 total time=   1.5s\n",
            "[CV 5/5] END ........C=100, gamma=1, kernel=rbf;, score=0.888 total time=   1.4s\n",
            "[CV 1/5] END .....C=100, gamma=1, kernel=linear;, score=0.824 total time=  14.4s\n",
            "[CV 2/5] END .....C=100, gamma=1, kernel=linear;, score=0.821 total time=  13.2s\n",
            "[CV 3/5] END .....C=100, gamma=1, kernel=linear;, score=0.819 total time=  13.4s\n",
            "[CV 4/5] END .....C=100, gamma=1, kernel=linear;, score=0.813 total time=  13.0s\n",
            "[CV 5/5] END .....C=100, gamma=1, kernel=linear;, score=0.830 total time=  11.9s\n",
            "[CV 1/5] END ......C=100, gamma=0.1, kernel=rbf;, score=0.874 total time=   0.9s\n",
            "[CV 2/5] END ......C=100, gamma=0.1, kernel=rbf;, score=0.876 total time=   0.7s\n",
            "[CV 3/5] END ......C=100, gamma=0.1, kernel=rbf;, score=0.885 total time=   0.8s\n",
            "[CV 4/5] END ......C=100, gamma=0.1, kernel=rbf;, score=0.881 total time=   0.8s\n",
            "[CV 5/5] END ......C=100, gamma=0.1, kernel=rbf;, score=0.885 total time=   0.7s\n",
            "[CV 1/5] END ...C=100, gamma=0.1, kernel=linear;, score=0.824 total time=  13.2s\n",
            "[CV 2/5] END ...C=100, gamma=0.1, kernel=linear;, score=0.821 total time=  12.0s\n",
            "[CV 3/5] END ...C=100, gamma=0.1, kernel=linear;, score=0.819 total time=  13.2s\n",
            "[CV 4/5] END ...C=100, gamma=0.1, kernel=linear;, score=0.813 total time=  12.4s\n",
            "[CV 5/5] END ...C=100, gamma=0.1, kernel=linear;, score=0.830 total time=  11.5s\n",
            "[CV 1/5] END .....C=100, gamma=0.01, kernel=rbf;, score=0.869 total time=   0.8s\n",
            "[CV 2/5] END .....C=100, gamma=0.01, kernel=rbf;, score=0.867 total time=   0.8s\n",
            "[CV 3/5] END .....C=100, gamma=0.01, kernel=rbf;, score=0.877 total time=   0.8s\n",
            "[CV 4/5] END .....C=100, gamma=0.01, kernel=rbf;, score=0.865 total time=   0.8s\n",
            "[CV 5/5] END .....C=100, gamma=0.01, kernel=rbf;, score=0.877 total time=   0.8s\n",
            "[CV 1/5] END ..C=100, gamma=0.01, kernel=linear;, score=0.824 total time=  12.1s\n",
            "[CV 2/5] END ..C=100, gamma=0.01, kernel=linear;, score=0.821 total time=  11.8s\n",
            "[CV 3/5] END ..C=100, gamma=0.01, kernel=linear;, score=0.819 total time=  12.2s\n",
            "[CV 4/5] END ..C=100, gamma=0.01, kernel=linear;, score=0.813 total time=  12.0s\n",
            "[CV 5/5] END ..C=100, gamma=0.01, kernel=linear;, score=0.830 total time=  11.1s\n",
            "[CV 1/5] END ....C=100, gamma=0.001, kernel=rbf;, score=0.838 total time=   0.5s\n",
            "[CV 2/5] END ....C=100, gamma=0.001, kernel=rbf;, score=0.839 total time=   0.6s\n",
            "[CV 3/5] END ....C=100, gamma=0.001, kernel=rbf;, score=0.839 total time=   0.5s\n",
            "[CV 4/5] END ....C=100, gamma=0.001, kernel=rbf;, score=0.828 total time=   0.5s\n",
            "[CV 5/5] END ....C=100, gamma=0.001, kernel=rbf;, score=0.840 total time=   0.5s\n",
            "[CV 1/5] END .C=100, gamma=0.001, kernel=linear;, score=0.824 total time=  12.1s\n",
            "[CV 2/5] END .C=100, gamma=0.001, kernel=linear;, score=0.821 total time=  11.9s\n",
            "[CV 3/5] END .C=100, gamma=0.001, kernel=linear;, score=0.819 total time=  12.5s\n",
            "[CV 4/5] END .C=100, gamma=0.001, kernel=linear;, score=0.813 total time=  11.8s\n",
            "[CV 5/5] END .C=100, gamma=0.001, kernel=linear;, score=0.830 total time=  11.2s\n",
            "{'C': 10, 'gamma': 0.1, 'kernel': 'rbf'}\n"
          ]
        }
      ],
      "source": [
        "# 5. Entrenamiento de SVR con búsqueda de hiperparámetros usando GridSearchCV\n",
        "param_grid = {\n",
        "    'C': [0.1, 1, 10, 100],  # Parámetros de regularización\n",
        "    'gamma': [1, 0.1, 0.01, 0.001],  # Parámetro de kernel para 'rbf', 'poly' y 'sigmoid'\n",
        "    'kernel': ['rbf', 'linear']  # Tipo de kernel\n",
        "}\n",
        "\n",
        "grid = GridSearchCV(SVC(), param_grid, refit=True, verbose=3)\n",
        "grid.fit(X_train, y_train)\n",
        "\n",
        "# Imprimir los mejores parámetros encontrados\n",
        "print(grid.best_params_)"
      ]
    },
    {
      "cell_type": "markdown",
      "metadata": {
        "id": "Sj8qFfB9b0t1"
      },
      "source": [
        "Evaluación del modelo"
      ]
    },
    {
      "cell_type": "code",
      "execution_count": 16,
      "metadata": {
        "colab": {
          "base_uri": "https://localhost:8080/"
        },
        "id": "wNJzas7gb1ND",
        "outputId": "89d1b5bf-f368-43c9-e735-73a6be8d09ec"
      },
      "outputs": [
        {
          "name": "stdout",
          "output_type": "stream",
          "text": [
            "[[825 129]\n",
            " [ 54 880]]\n",
            "Reporte de clasificación:\n",
            "               precision    recall  f1-score   support\n",
            "\n",
            "           0       0.94      0.86      0.90       954\n",
            "           1       0.87      0.94      0.91       934\n",
            "\n",
            "    accuracy                           0.90      1888\n",
            "   macro avg       0.91      0.90      0.90      1888\n",
            "weighted avg       0.91      0.90      0.90      1888\n",
            "\n"
          ]
        }
      ],
      "source": [
        "# 6. Evaluación del modelo con los mejores hiperparámetros\n",
        "best_svr_model = grid.best_estimator_\n",
        "y_pred = best_svr_model.predict(X_test)\n",
        "\n",
        "# Calcular la matriz de confusión, y generar el reporte de clasificación\n",
        "conf_matrix = confusion_matrix(y_test, y_pred)\n",
        "report = classification_report(y_test, y_pred)\n",
        "\n",
        "# Imprimir las métricas\n",
        "print(conf_matrix)\n",
        "print(\"Reporte de clasificación:\\n\", report)"
      ]
    },
    {
      "cell_type": "markdown",
      "metadata": {},
      "source": [
        "Validación cruzada"
      ]
    },
    {
      "cell_type": "code",
      "execution_count": 17,
      "metadata": {},
      "outputs": [
        {
          "name": "stdout",
          "output_type": "stream",
          "text": [
            "Accuracy promedio con Validación Cruzada: 0.8899637536651751\n"
          ]
        }
      ],
      "source": [
        "# 7. Validación Cruzada\n",
        "scores = cross_val_score(best_svr_model, X_train, y_train, cv=5, scoring='accuracy')\n",
        "# Imprimir el promedio de los scores de la validación cruzada\n",
        "print(\"Accuracy promedio con Validación Cruzada:\", scores.mean())"
      ]
    },
    {
      "cell_type": "code",
      "execution_count": 18,
      "metadata": {},
      "outputs": [
        {
          "name": "stdout",
          "output_type": "stream",
          "text": [
            "SVC(C=10, gamma=0.1)\n"
          ]
        }
      ],
      "source": [
        "print(grid.best_estimator_)"
      ]
    }
  ],
  "metadata": {
    "colab": {
      "provenance": []
    },
    "kernelspec": {
      "display_name": "Python 3",
      "name": "python3"
    },
    "language_info": {
      "codemirror_mode": {
        "name": "ipython",
        "version": 3
      },
      "file_extension": ".py",
      "mimetype": "text/x-python",
      "name": "python",
      "nbconvert_exporter": "python",
      "pygments_lexer": "ipython3",
      "version": "3.10.10"
    }
  },
  "nbformat": 4,
  "nbformat_minor": 0
}
