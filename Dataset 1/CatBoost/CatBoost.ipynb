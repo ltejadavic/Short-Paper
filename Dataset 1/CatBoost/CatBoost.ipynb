{
  "cells": [
    {
      "cell_type": "markdown",
      "metadata": {
        "id": "AvJyg8xgbBD2"
      },
      "source": [
        "Importación y Carga de Datos"
      ]
    },
    {
      "cell_type": "code",
      "execution_count": 1,
      "metadata": {
        "id": "tJA_xfxpbAlp"
      },
      "outputs": [],
      "source": [
        "import pandas as pd\n",
        "from sklearn.preprocessing import LabelEncoder, StandardScaler\n",
        "from sklearn.model_selection import train_test_split, GridSearchCV\n",
        "from sklearn.metrics import confusion_matrix, accuracy_score, classification_report\n",
        "from imblearn.over_sampling import SMOTE\n",
        "from catboost import CatBoostClassifier\n",
        "from xgboost import XGBClassifier\n",
        "\n",
        "# Cargar el dataset\n",
        "df = pd.read_csv('telecom_customer_churn.csv')"
      ]
    },
    {
      "cell_type": "markdown",
      "metadata": {
        "id": "Y3B405XRbMm_"
      },
      "source": [
        "Preprocesamiento"
      ]
    },
    {
      "cell_type": "code",
      "execution_count": 2,
      "metadata": {
        "colab": {
          "base_uri": "https://localhost:8080/"
        },
        "id": "BKuTS-4Da1iq",
        "outputId": "64269792-651b-47fc-a2aa-3a22c056507f"
      },
      "outputs": [],
      "source": [
        "# 1. Preprocesamiento\n",
        "# a. Eliminar entradas con el estado \"Joined\"\n",
        "df = df[df['Customer Status'] != 'Joined']\n",
        "\n",
        "# b. Crear la columna 'Churn' y asignar 1 si 'Customer Status' es 'Churned', de lo contrario 0\n",
        "df['Churn'] = df['Customer Status'].apply(lambda x: 1 if x == 'Churned' else 0)\n",
        "\n",
        "# c. Eliminar columnas con más del 50% de datos faltantes\n",
        "threshold = int(0.5 * len(df))\n",
        "df = df.dropna(thresh=threshold, axis=1)\n",
        "\n",
        "# d. Reemplazar valores atípicos por la media\n",
        "for col in df.select_dtypes(include=['float64', 'int64']):\n",
        "    Q1 = df[col].quantile(0.25)\n",
        "    Q3 = df[col].quantile(0.75)\n",
        "    IQR = Q3 - Q1\n",
        "    df[col] = df[col].apply(lambda x: df[col].mean() if (x < (Q1 - 1.5 * IQR)) or (x > (Q3 + 1.5 * IQR)) else x)\n",
        "\n",
        "# e. Convertir variables categóricas a numéricas y llenar valores faltantes\n",
        "for column in df.columns:\n",
        "    if df[column].dtype == 'object' and column != 'Customer Status':\n",
        "        # Llenar valores faltantes con la moda para columnas categóricas\n",
        "        df[column].fillna(df[column].mode()[0], inplace=True)\n",
        "        # Convertir variables categóricas a numéricas\n",
        "        le = LabelEncoder()\n",
        "        df[column] = le.fit_transform(df[column])\n",
        "    elif df[column].dtype in ['int64', 'float64']:\n",
        "        # Llenar valores faltantes con la mediana para columnas numéricas\n",
        "        df[column].fillna(df[column].median(), inplace=True)\n",
        "\n",
        "# Eliminar la columna 'Customer Status' antes de normalizar\n",
        "df = df.drop(columns=['Customer Status'])\n",
        "\n",
        "# f. Normalización\n",
        "# Seleccionar solo las columnas que no son 'Churn' para la normalización\n",
        "cols_to_scale = df.columns.difference(['Churn'])\n",
        "scaler = StandardScaler()\n",
        "df[cols_to_scale] = scaler.fit_transform(df[cols_to_scale])\n"
      ]
    },
    {
      "cell_type": "markdown",
      "metadata": {
        "id": "ed-WLhQ4bPiM"
      },
      "source": [
        "Selección de características"
      ]
    },
    {
      "cell_type": "code",
      "execution_count": 3,
      "metadata": {
        "id": "i8PrZ1K8bP7s"
      },
      "outputs": [],
      "source": [
        "# 2. Selección de características\n",
        "xgb_for_feature_selection = XGBClassifier(\n",
        "    objective='binary:logistic', \n",
        "    random_state=42, \n",
        "    use_label_encoder=False, \n",
        "    eval_metric='logloss'\n",
        ")\n",
        "xgb_for_feature_selection.fit(df.drop('Churn', axis=1), df['Churn'])\n",
        "threshold = 0.01  \n",
        "selected_features = df.drop('Churn', axis=1).columns[(xgb_for_feature_selection.feature_importances_ > threshold)].tolist()"
      ]
    },
    {
      "cell_type": "markdown",
      "metadata": {
        "id": "-gGkhCSKbZAy"
      },
      "source": [
        "Balanceo"
      ]
    },
    {
      "cell_type": "code",
      "execution_count": 4,
      "metadata": {
        "id": "pHoztCgybaO5"
      },
      "outputs": [],
      "source": [
        "# 3. Balanceo con SMOTE\n",
        "X = df[selected_features]\n",
        "y = df['Churn']\n",
        "smote = SMOTE(random_state=42)\n",
        "X_smote, y_smote = smote.fit_resample(X, y)"
      ]
    },
    {
      "cell_type": "markdown",
      "metadata": {
        "id": "rVuuaC5amVQU"
      },
      "source": [
        "División de Conjunto"
      ]
    },
    {
      "cell_type": "code",
      "execution_count": 5,
      "metadata": {
        "colab": {
          "base_uri": "https://localhost:8080/"
        },
        "id": "uyGhE6ygmYrG",
        "outputId": "1e0e50c0-ba48-4424-f724-6675dfddcaa9"
      },
      "outputs": [],
      "source": [
        "# 4. División de Conjunto\n",
        "X_train, X_test, y_train, y_test = train_test_split(X_smote, y_smote, test_size=0.2, random_state=42)"
      ]
    },
    {
      "cell_type": "markdown",
      "metadata": {
        "id": "Sj8qFfB9b0t1"
      },
      "source": [
        "Entrenamiento de CatBoost con hiperparámetros"
      ]
    },
    {
      "cell_type": "code",
      "execution_count": 6,
      "metadata": {
        "colab": {
          "base_uri": "https://localhost:8080/"
        },
        "id": "wNJzas7gb1ND",
        "outputId": "89d1b5bf-f368-43c9-e735-73a6be8d09ec"
      },
      "outputs": [
        {
          "name": "stdout",
          "output_type": "stream",
          "text": [
            "Mejor: 0.913665 usando {'depth': 9, 'iterations': 300, 'learning_rate': 0.2}\n"
          ]
        }
      ],
      "source": [
        "# 5. Entrenamiento de CatBoost con búsqueda de hiperparámetros\n",
        "cb_model = CatBoostClassifier(random_state=42, verbose=0)\n",
        "\n",
        "param_grid = {\n",
        "    'iterations': [50, 100, 200, 300],\n",
        "    'learning_rate': [0.001, 0.01, 0.1, 0.2],\n",
        "    'depth': [3, 5, 7, 9],\n",
        "}\n",
        "\n",
        "grid_search = GridSearchCV(estimator=cb_model, param_grid=param_grid, cv=5)\n",
        "grid_search_result = grid_search.fit(X_train, y_train)\n",
        "\n",
        "# Mostrar los resultados\n",
        "print(\"Mejor: %f usando %s\" % (grid_search_result.best_score_, grid_search_result.best_params_))"
      ]
    },
    {
      "cell_type": "markdown",
      "metadata": {},
      "source": [
        "Evaluación del modelo"
      ]
    },
    {
      "cell_type": "code",
      "execution_count": 7,
      "metadata": {},
      "outputs": [
        {
          "name": "stdout",
          "output_type": "stream",
          "text": [
            "[[871  83]\n",
            " [ 73 861]]\n",
            "Accuracy con CatBoost: 0.9173728813559322\n",
            "              precision    recall  f1-score   support\n",
            "\n",
            "           0       0.92      0.91      0.92       954\n",
            "           1       0.91      0.92      0.92       934\n",
            "\n",
            "    accuracy                           0.92      1888\n",
            "   macro avg       0.92      0.92      0.92      1888\n",
            "weighted avg       0.92      0.92      0.92      1888\n",
            "\n"
          ]
        }
      ],
      "source": [
        "# 6. Evaluación del modelo con los mejores hiperparámetros\n",
        "y_pred = grid_search_result.predict(X_test)\n",
        "conf_matrix = confusion_matrix(y_test, y_pred)\n",
        "acc = accuracy_score(y_test, y_pred)\n",
        "report = classification_report(y_test, y_pred)\n",
        "\n",
        "print(conf_matrix)\n",
        "print(\"Accuracy con CatBoost:\", acc)\n",
        "print(report)"
      ]
    }
  ],
  "metadata": {
    "colab": {
      "provenance": []
    },
    "kernelspec": {
      "display_name": "Python 3",
      "name": "python3"
    },
    "language_info": {
      "codemirror_mode": {
        "name": "ipython",
        "version": 3
      },
      "file_extension": ".py",
      "mimetype": "text/x-python",
      "name": "python",
      "nbconvert_exporter": "python",
      "pygments_lexer": "ipython3",
      "version": "3.10.10"
    }
  },
  "nbformat": 4,
  "nbformat_minor": 0
}
